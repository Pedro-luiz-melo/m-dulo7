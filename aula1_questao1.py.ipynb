{
 "cells": [
  {
   "cell_type": "code",
   "execution_count": 1,
   "id": "fd26e4a6-abba-4b38-926d-5cfc0f2681cf",
   "metadata": {},
   "outputs": [
    {
     "name": "stdin",
     "output_type": "stream",
     "text": [
      "Digite seu nome:  pedro\n"
     ]
    },
    {
     "name": "stdout",
     "output_type": "stream",
     "text": [
      "p\n",
      "pe\n",
      "ped\n",
      "pedr\n",
      "pedro\n"
     ]
    }
   ],
   "source": [
    "# Solicita o nome do usuário\n",
    "nome = input(\"Digite seu nome: \")\n",
    "\n",
    "# Imprime o nome em forma de escada\n",
    "for i in range(1, len(nome) + 1):\n",
    "    print(nome[:i])\n"
   ]
  }
 ],
 "metadata": {
  "kernelspec": {
   "display_name": "Python 3 (ipykernel)",
   "language": "python",
   "name": "python3"
  },
  "language_info": {
   "codemirror_mode": {
    "name": "ipython",
    "version": 3
   },
   "file_extension": ".py",
   "mimetype": "text/x-python",
   "name": "python",
   "nbconvert_exporter": "python",
   "pygments_lexer": "ipython3",
   "version": "3.12.2"
  }
 },
 "nbformat": 4,
 "nbformat_minor": 5
}
