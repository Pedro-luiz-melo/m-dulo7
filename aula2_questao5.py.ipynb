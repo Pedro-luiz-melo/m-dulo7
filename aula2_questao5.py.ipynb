{
 "cells": [
  {
   "cell_type": "code",
   "execution_count": 1,
   "id": "908a1ca2-26a7-4938-a1f6-42455b9406b9",
   "metadata": {},
   "outputs": [
    {
     "name": "stdout",
     "output_type": "stream",
     "text": [
      "Phyton é uma lenaguigm de pgmçrarãaoo\n"
     ]
    }
   ],
   "source": [
    "import random\n",
    "\n",
    "def embaralhar_palavras(frase):\n",
    "    palavras = frase.split()  # Divide a frase em palavras\n",
    "    nova_frase = []\n",
    "    \n",
    "    for palavra in palavras:\n",
    "        if len(palavra) > 3:  # Só embaralha palavras com mais de 3 letras\n",
    "            meio = list(palavra[1:-1])  # Pega as letras internas\n",
    "            random.shuffle(meio)  # Embaralha as letras internas\n",
    "            nova_palavra = palavra[0] + ''.join(meio) + palavra[-1]  # Junta a palavra novamente\n",
    "            nova_frase.append(nova_palavra)\n",
    "        else:\n",
    "            nova_frase.append(palavra)  # Para palavras com 2 ou 3 letras, não altera\n",
    "    \n",
    "    return ' '.join(nova_frase)\n",
    "\n",
    "# Exemplo de uso\n",
    "frase = \"Python é uma linguagem de programação\"\n",
    "resultado = embaralhar_palavras(frase)\n",
    "print(resultado)\n"
   ]
  }
 ],
 "metadata": {
  "kernelspec": {
   "display_name": "Python 3 (ipykernel)",
   "language": "python",
   "name": "python3"
  },
  "language_info": {
   "codemirror_mode": {
    "name": "ipython",
    "version": 3
   },
   "file_extension": ".py",
   "mimetype": "text/x-python",
   "name": "python",
   "nbconvert_exporter": "python",
   "pygments_lexer": "ipython3",
   "version": "3.12.2"
  }
 },
 "nbformat": 4,
 "nbformat_minor": 5
}
