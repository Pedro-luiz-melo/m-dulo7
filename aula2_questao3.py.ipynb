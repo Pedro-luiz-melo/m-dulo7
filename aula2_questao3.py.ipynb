{
 "cells": [
  {
   "cell_type": "code",
   "execution_count": null,
   "id": "b43fff9a-7e00-4a2f-b381-124991277f01",
   "metadata": {},
   "outputs": [
    {
     "name": "stdin",
     "output_type": "stream",
     "text": [
      "Digite uma frase (digite \"fim\" para encerrar):  Amo a Laura muito\n"
     ]
    },
    {
     "name": "stdout",
     "output_type": "stream",
     "text": [
      "\"Amo a Laura muito\" não é palíndromo\n"
     ]
    },
    {
     "name": "stdin",
     "output_type": "stream",
     "text": [
      "Digite uma frase (digite \"fim\" para encerrar):  Amo a Laura\n"
     ]
    },
    {
     "name": "stdout",
     "output_type": "stream",
     "text": [
      "\"Amo a Laura\" não é palíndromo\n"
     ]
    }
   ],
   "source": [
    "import string\n",
    "\n",
    "def verificar_palindromo(frase):\n",
    "    # Remove espaços e pontuação, e coloca tudo em minúsculas\n",
    "    frase = frase.lower()\n",
    "    frase = ''.join(c for c in frase if c.isalnum())  # Retira pontuação e espaços\n",
    "    \n",
    "    # Verifica se a frase é igual à sua reversa\n",
    "    if frase == frase[::-1]:\n",
    "        return True\n",
    "    return False\n",
    "\n",
    "# Programa principal\n",
    "while True:\n",
    "    frase = input('Digite uma frase (digite \"fim\" para encerrar): ')\n",
    "    if frase.lower() == \"fim\":\n",
    "        break\n",
    "    elif verificar_palindromo(frase):\n",
    "        print(f'\"{frase}\" é palíndromo')\n",
    "    else:\n",
    "        print(f'\"{frase}\" não é palíndromo')\n"
   ]
  }
 ],
 "metadata": {
  "kernelspec": {
   "display_name": "Python 3 (ipykernel)",
   "language": "python",
   "name": "python3"
  },
  "language_info": {
   "codemirror_mode": {
    "name": "ipython",
    "version": 3
   },
   "file_extension": ".py",
   "mimetype": "text/x-python",
   "name": "python",
   "nbconvert_exporter": "python",
   "pygments_lexer": "ipython3",
   "version": "3.12.2"
  }
 },
 "nbformat": 4,
 "nbformat_minor": 5
}
