{
 "cells": [
  {
   "cell_type": "code",
   "execution_count": 1,
   "id": "32950636-b831-44a6-b41b-d9cd8119b625",
   "metadata": {},
   "outputs": [
    {
     "name": "stdin",
     "output_type": "stream",
     "text": [
      "Digite o número:  10\n"
     ]
    },
    {
     "name": "stdout",
     "output_type": "stream",
     "text": [
      "Número completo: 10-\n"
     ]
    }
   ],
   "source": [
    "# Solicita o número de celular\n",
    "numero = input(\"Digite o número: \")\n",
    "\n",
    "# Verifica se o número tem 8 ou 9 dígitos\n",
    "if len(numero) == 8:\n",
    "    numero_completo = '9' + numero\n",
    "elif len(numero) == 9 and numero[0] == '9':\n",
    "    numero_completo = numero\n",
    "else:\n",
    "    numero_completo = numero\n",
    "\n",
    "# Exibe o número completo com o separador \"-\"\n",
    "numero_completo_formatado = f\"{numero_completo[:5]}-{numero_completo[5:]}\"\n",
    "print(f\"Número completo: {numero_completo_formatado}\")\n"
   ]
  }
 ],
 "metadata": {
  "kernelspec": {
   "display_name": "Python 3 (ipykernel)",
   "language": "python",
   "name": "python3"
  },
  "language_info": {
   "codemirror_mode": {
    "name": "ipython",
    "version": 3
   },
   "file_extension": ".py",
   "mimetype": "text/x-python",
   "name": "python",
   "nbconvert_exporter": "python",
   "pygments_lexer": "ipython3",
   "version": "3.12.2"
  }
 },
 "nbformat": 4,
 "nbformat_minor": 5
}
