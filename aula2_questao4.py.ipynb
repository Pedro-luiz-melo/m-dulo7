{
 "cells": [
  {
   "cell_type": "code",
   "execution_count": 1,
   "id": "784f70e4-602c-4f80-b62a-e76942f979cf",
   "metadata": {},
   "outputs": [
    {
     "name": "stdout",
     "output_type": "stream",
     "text": [
      "True\n",
      "False\n",
      "False\n"
     ]
    }
   ],
   "source": [
    "import re\n",
    "\n",
    "def validador_senha(senha):\n",
    "    # Verifica as condições\n",
    "    if len(senha) < 8:\n",
    "        return False\n",
    "    if not re.search(r'[a-z]', senha):  # Verifica se tem letra minúscula\n",
    "        return False\n",
    "    if not re.search(r'[A-Z]', senha):  # Verifica se tem letra maiúscula\n",
    "        return False\n",
    "    if not re.search(r'[0-9]', senha):  # Verifica se tem número\n",
    "        return False\n",
    "    if not re.search(r'[@#$%^&+=]', senha):  # Verifica se tem caractere especial\n",
    "        return False\n",
    "    return True\n",
    "\n",
    "# Exemplos de uso\n",
    "senha1 = \"Senha123@\"\n",
    "senha2 = \"senhafraca\"\n",
    "senha3 = \"Senha_fraca\"\n",
    "\n",
    "print(validador_senha(senha1))  # Saída esperada: True\n",
    "print(validador_senha(senha2))  # Saída esperada: False\n",
    "print(validador_senha(senha3))  # Saída esperada: False\n"
   ]
  }
 ],
 "metadata": {
  "kernelspec": {
   "display_name": "Python 3 (ipykernel)",
   "language": "python",
   "name": "python3"
  },
  "language_info": {
   "codemirror_mode": {
    "name": "ipython",
    "version": 3
   },
   "file_extension": ".py",
   "mimetype": "text/x-python",
   "name": "python",
   "nbconvert_exporter": "python",
   "pygments_lexer": "ipython3",
   "version": "3.12.2"
  }
 },
 "nbformat": 4,
 "nbformat_minor": 5
}
