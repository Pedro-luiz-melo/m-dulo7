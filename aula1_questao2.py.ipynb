{
 "cells": [
  {
   "cell_type": "code",
   "execution_count": 1,
   "id": "149790af-45ee-468a-88d4-d2fdcebb7dec",
   "metadata": {},
   "outputs": [
    {
     "name": "stdin",
     "output_type": "stream",
     "text": [
      "Digite seu primeiro nome:  pedro\n",
      "Digite seu sobrenome:  luiz\n"
     ]
    },
    {
     "name": "stdout",
     "output_type": "stream",
     "text": [
      "Bem-vinda, pedro luiz!\n"
     ]
    }
   ],
   "source": [
    "# Solicita o primeiro nome e sobrenome\n",
    "primeiro_nome = input(\"Digite seu primeiro nome: \")\n",
    "sobrenome = input(\"Digite seu sobrenome: \")\n",
    "\n",
    "# Exibe a mensagem de boas-vindas\n",
    "print(f\"Bem-vinda, {primeiro_nome} {sobrenome}!\")\n"
   ]
  }
 ],
 "metadata": {
  "kernelspec": {
   "display_name": "Python 3 (ipykernel)",
   "language": "python",
   "name": "python3"
  },
  "language_info": {
   "codemirror_mode": {
    "name": "ipython",
    "version": 3
   },
   "file_extension": ".py",
   "mimetype": "text/x-python",
   "name": "python",
   "nbconvert_exporter": "python",
   "pygments_lexer": "ipython3",
   "version": "3.12.2"
  }
 },
 "nbformat": 4,
 "nbformat_minor": 5
}
