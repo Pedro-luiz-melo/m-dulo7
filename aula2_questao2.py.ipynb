{
 "cells": [
  {
   "cell_type": "code",
   "execution_count": 1,
   "id": "0ea699fd-18bd-4a02-b49d-69e0db47c138",
   "metadata": {},
   "outputs": [
    {
     "name": "stdin",
     "output_type": "stream",
     "text": [
      "Digite uma frase:  Amo a Laura\n"
     ]
    },
    {
     "name": "stdout",
     "output_type": "stream",
     "text": [
      "Frase modificada: *m* * L**r*\n"
     ]
    }
   ],
   "source": [
    "# Solicita uma frase do usuário\n",
    "frase = input(\"Digite uma frase: \")\n",
    "\n",
    "# Substitui todas as vogais por \"*\"\n",
    "frase_modificada = ''.join(['*' if c in 'aeiouAEIOU' else c for c in frase])\n",
    "\n",
    "# Exibe a frase modificada\n",
    "print(f\"Frase modificada: {frase_modificada}\")\n"
   ]
  }
 ],
 "metadata": {
  "kernelspec": {
   "display_name": "Python 3 (ipykernel)",
   "language": "python",
   "name": "python3"
  },
  "language_info": {
   "codemirror_mode": {
    "name": "ipython",
    "version": 3
   },
   "file_extension": ".py",
   "mimetype": "text/x-python",
   "name": "python",
   "nbconvert_exporter": "python",
   "pygments_lexer": "ipython3",
   "version": "3.12.2"
  }
 },
 "nbformat": 4,
 "nbformat_minor": 5
}
