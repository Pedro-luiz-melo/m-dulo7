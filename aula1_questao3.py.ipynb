{
 "cells": [
  {
   "cell_type": "code",
   "execution_count": 1,
   "id": "c894728d-687a-449e-a946-e2a45dce2ce3",
   "metadata": {},
   "outputs": [
    {
     "name": "stdin",
     "output_type": "stream",
     "text": [
      "Digite a frase:  pedro luiz lindo demais\n"
     ]
    },
    {
     "name": "stdout",
     "output_type": "stream",
     "text": [
      "Espaços em branco: 3\n"
     ]
    }
   ],
   "source": [
    "# Solicita uma frase do usuário\n",
    "frase = input(\"Digite a frase: \")\n",
    "\n",
    "# Conta os espaços em branco\n",
    "espacos = frase.count(' ')\n",
    "\n",
    "# Exibe o resultado\n",
    "print(f\"Espaços em branco: {espacos}\")\n"
   ]
  }
 ],
 "metadata": {
  "kernelspec": {
   "display_name": "Python 3 (ipykernel)",
   "language": "python",
   "name": "python3"
  },
  "language_info": {
   "codemirror_mode": {
    "name": "ipython",
    "version": 3
   },
   "file_extension": ".py",
   "mimetype": "text/x-python",
   "name": "python",
   "nbconvert_exporter": "python",
   "pygments_lexer": "ipython3",
   "version": "3.12.2"
  }
 },
 "nbformat": 4,
 "nbformat_minor": 5
}
