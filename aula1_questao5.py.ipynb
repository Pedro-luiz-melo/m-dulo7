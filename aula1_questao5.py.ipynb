{
 "cells": [
  {
   "cell_type": "code",
   "execution_count": 1,
   "id": "f3de13b7-a9bb-4960-8023-ee4b184caa95",
   "metadata": {},
   "outputs": [
    {
     "name": "stdin",
     "output_type": "stream",
     "text": [
      "Digite uma frase:  Amo a Laura\n"
     ]
    },
    {
     "name": "stdout",
     "output_type": "stream",
     "text": [
      "6 vogais\n",
      "Índices [0, 2, 4, 7, 8, 10]\n"
     ]
    }
   ],
   "source": [
    "# Solicita uma frase do usuário\n",
    "frase = input(\"Digite uma frase: \")\n",
    "\n",
    "# Definir as vogais\n",
    "vogais = \"aeiou\"\n",
    "\n",
    "# Listar as vogais e os índices\n",
    "vogais_encontradas = [i for i, char in enumerate(frase.lower()) if char in vogais]\n",
    "\n",
    "# Exibe o resultado\n",
    "print(f\"{len(vogais_encontradas)} vogais\")\n",
    "print(f\"Índices {vogais_encontradas}\")\n"
   ]
  }
 ],
 "metadata": {
  "kernelspec": {
   "display_name": "Python 3 (ipykernel)",
   "language": "python",
   "name": "python3"
  },
  "language_info": {
   "codemirror_mode": {
    "name": "ipython",
    "version": 3
   },
   "file_extension": ".py",
   "mimetype": "text/x-python",
   "name": "python",
   "nbconvert_exporter": "python",
   "pygments_lexer": "ipython3",
   "version": "3.12.2"
  }
 },
 "nbformat": 4,
 "nbformat_minor": 5
}
