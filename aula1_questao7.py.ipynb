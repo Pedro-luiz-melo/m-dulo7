{
 "cells": [
  {
   "cell_type": "code",
   "execution_count": 1,
   "id": "8c0ae1a5-e3c3-43cc-bc30-9dfb5b9c06db",
   "metadata": {},
   "outputs": [
    {
     "name": "stdout",
     "output_type": "stream",
     "text": [
      "Nomes criptografados: ['Qzfsf', 'Oz', 'If{n', '[n{n', 'Uwn', 'Qzn\\x7f']\n",
      "Chave de criptografia: 5\n"
     ]
    }
   ],
   "source": [
    "import random\n",
    "\n",
    "def encrypt(nomes):\n",
    "    # Gera uma chave aleatória entre 1 e 10\n",
    "    chave = random.randint(1, 10)\n",
    "    \n",
    "    # Função para criptografar cada nome\n",
    "    nomes_criptografados = []\n",
    "    for nome in nomes:\n",
    "        nome_criptografado = ''.join([chr(ord(c) + chave) for c in nome])\n",
    "        nomes_criptografados.append(nome_criptografado)\n",
    "    \n",
    "    return nomes_criptografados, chave\n",
    "\n",
    "# Lista de nomes\n",
    "nomes = [\"Luana\", \"Ju\", \"Davi\", \"Vivi\", \"Pri\", \"Luiz\"]\n",
    "\n",
    "# Criptografando os nomes\n",
    "nomes_criptografados, chave = encrypt(nomes)\n",
    "\n",
    "# Exibe os resultados\n",
    "print(f\"Nomes criptografados: {nomes_criptografados}\")\n",
    "print(f\"Chave de criptografia: {chave}\")\n"
   ]
  }
 ],
 "metadata": {
  "kernelspec": {
   "display_name": "Python 3 (ipykernel)",
   "language": "python",
   "name": "python3"
  },
  "language_info": {
   "codemirror_mode": {
    "name": "ipython",
    "version": 3
   },
   "file_extension": ".py",
   "mimetype": "text/x-python",
   "name": "python",
   "nbconvert_exporter": "python",
   "pygments_lexer": "ipython3",
   "version": "3.12.2"
  }
 },
 "nbformat": 4,
 "nbformat_minor": 5
}
