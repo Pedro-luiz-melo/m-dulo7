{
 "cells": [
  {
   "cell_type": "code",
   "execution_count": 2,
   "id": "cc3b7122-bad6-40d5-afd5-f3dbdc728fa1",
   "metadata": {},
   "outputs": [
    {
     "name": "stdin",
     "output_type": "stream",
     "text": [
      "Digite uma frase:  Amo a Laura \n",
      "Digite a palavra objetivo:  Laura\n"
     ]
    },
    {
     "name": "stdout",
     "output_type": "stream",
     "text": [
      "Anagramas: ['Laura']\n"
     ]
    }
   ],
   "source": [
    "# Solicita a frase e a palavra objetivo\n",
    "frase = input(\"Digite uma frase: \").split()\n",
    "palavra_objetivo = input(\"Digite a palavra objetivo: \")\n",
    "\n",
    "# Função para verificar se duas palavras são anagramas\n",
    "def sao_anagramas(palavra1, palavra2):\n",
    "    return sorted(palavra1) == sorted(palavra2)\n",
    "\n",
    "# Encontrar os anagramas na frase\n",
    "anagramas = [palavra for palavra in frase if sao_anagramas(palavra, palavra_objetivo)]\n",
    "\n",
    "# Exibe os anagramas encontrados\n",
    "print(f\"Anagramas: {anagramas}\")\n"
   ]
  },
  {
   "cell_type": "code",
   "execution_count": null,
   "id": "a746dc25-2ec6-4bfa-b8ee-42af9747f9da",
   "metadata": {},
   "outputs": [],
   "source": []
  }
 ],
 "metadata": {
  "kernelspec": {
   "display_name": "Python 3 (ipykernel)",
   "language": "python",
   "name": "python3"
  },
  "language_info": {
   "codemirror_mode": {
    "name": "ipython",
    "version": 3
   },
   "file_extension": ".py",
   "mimetype": "text/x-python",
   "name": "python",
   "nbconvert_exporter": "python",
   "pygments_lexer": "ipython3",
   "version": "3.12.2"
  }
 },
 "nbformat": 4,
 "nbformat_minor": 5
}
