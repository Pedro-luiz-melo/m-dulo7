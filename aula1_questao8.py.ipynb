{
 "cells": [
  {
   "cell_type": "code",
   "execution_count": 4,
   "id": "396897bc-8e00-4d4e-a4d6-c2967e77b2c4",
   "metadata": {},
   "outputs": [
    {
     "name": "stdin",
     "output_type": "stream",
     "text": [
      "Digite seu CPF (XXX.XXX.XXX-XX):  01434544630\n"
     ]
    },
    {
     "name": "stdout",
     "output_type": "stream",
     "text": [
      "Válido\n"
     ]
    }
   ],
   "source": [
    "def valida_cpf(cpf):\n",
    "    # Remover os pontos e traço\n",
    "    cpf = cpf.replace(\".\", \"\").replace(\"-\", \"\")\n",
    "    \n",
    "    # Verificar se o CPF tem 11 dígitos\n",
    "    if len(cpf) != 11 or not cpf.isdigit():\n",
    "        return \"Inválido\"\n",
    "    \n",
    "    # Calcular o primeiro dígito verificador\n",
    "    numeros = [int(digit) for digit in cpf[:9]]\n",
    "    multiplicadores = [10, 9, 8, 7, 6, 5, 4, 3, 2]\n",
    "    soma = sum(n * m for n, m in zip(numeros, multiplicadores))\n",
    "    primeiro_digito = 11 - (soma % 11) if soma % 11 >= 2 else 0\n",
    "    \n",
    "    # Calcular o segundo dígito verificador\n",
    "    numeros.append(primeiro_digito)\n",
    "    multiplicadores = [11, 10, 9, 8, 7, 6, 5, 4, 3, 2]\n",
    "    soma = sum(n * m for n, m in zip(numeros, multiplicadores))\n",
    "    segundo_digito = 11 - (soma % 11) if soma % 11 >= 2 else 0\n",
    "    \n",
    "    # Verificar se os dígitos verificadores são iguais aos do CPF\n",
    "    if cpf[-2:] == f\"{primeiro_digito}{segundo_digito}\":\n",
    "        return \"Válido\"\n",
    "    else:\n",
    "        return \"Inválido\"\n",
    "\n",
    "# Solicita o CPF do usuário\n",
    "cpf = input(\"Digite seu CPF (XXX.XXX.XXX-XX): \")\n",
    "\n",
    "# Verifica a validade do CPF\n",
    "print(valida_cpf(cpf))\n"
   ]
  },
  {
   "cell_type": "code",
   "execution_count": null,
   "id": "8f2ae3f0-6152-4c9c-bb47-00d23e1b845a",
   "metadata": {},
   "outputs": [],
   "source": []
  }
 ],
 "metadata": {
  "kernelspec": {
   "display_name": "Python 3 (ipykernel)",
   "language": "python",
   "name": "python3"
  },
  "language_info": {
   "codemirror_mode": {
    "name": "ipython",
    "version": 3
   },
   "file_extension": ".py",
   "mimetype": "text/x-python",
   "name": "python",
   "nbconvert_exporter": "python",
   "pygments_lexer": "ipython3",
   "version": "3.12.2"
  }
 },
 "nbformat": 4,
 "nbformat_minor": 5
}
