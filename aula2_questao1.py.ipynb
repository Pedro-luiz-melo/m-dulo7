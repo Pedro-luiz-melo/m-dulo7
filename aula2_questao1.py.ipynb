{
 "cells": [
  {
   "cell_type": "code",
   "execution_count": 2,
   "id": "a6482d51-c80c-49ce-8e84-8864f0e88503",
   "metadata": {},
   "outputs": [
    {
     "name": "stdin",
     "output_type": "stream",
     "text": [
      "Digite uma data de nascimento (dd/mm/aaaa):  14/01/2009\n"
     ]
    },
    {
     "name": "stdout",
     "output_type": "stream",
     "text": [
      "Você nasceu em 14 de Janeiro de 2009.\n"
     ]
    }
   ],
   "source": [
    "# Solicita a data de nascimento\n",
    "data_nascimento = input(\"Digite uma data de nascimento (dd/mm/aaaa): \")\n",
    "\n",
    "# Lista dos meses\n",
    "meses = [\n",
    "    \"Janeiro\", \"Fevereiro\", \"Março\", \"Abril\", \"Maio\", \"Junho\", \n",
    "    \"Julho\", \"Agosto\", \"Setembro\", \"Outubro\", \"Novembro\", \"Dezembro\"\n",
    "]\n",
    "\n",
    "# Separa o dia, mês e ano\n",
    "dia, mes, ano = data_nascimento.split('/')\n",
    "\n",
    "# Converte o mês para o nome por extenso\n",
    "mes_nome = meses[int(mes) - 1]\n",
    "\n",
    "# Imprime a data com o nome do mês por extenso\n",
    "print(f\"Você nasceu em {dia} de {mes_nome} de {ano}.\")\n"
   ]
  },
  {
   "cell_type": "code",
   "execution_count": null,
   "id": "d9bc7cd5-cc9f-45e5-a51a-1f7c10cad691",
   "metadata": {},
   "outputs": [],
   "source": []
  }
 ],
 "metadata": {
  "kernelspec": {
   "display_name": "Python 3 (ipykernel)",
   "language": "python",
   "name": "python3"
  },
  "language_info": {
   "codemirror_mode": {
    "name": "ipython",
    "version": 3
   },
   "file_extension": ".py",
   "mimetype": "text/x-python",
   "name": "python",
   "nbconvert_exporter": "python",
   "pygments_lexer": "ipython3",
   "version": "3.12.2"
  }
 },
 "nbformat": 4,
 "nbformat_minor": 5
}
